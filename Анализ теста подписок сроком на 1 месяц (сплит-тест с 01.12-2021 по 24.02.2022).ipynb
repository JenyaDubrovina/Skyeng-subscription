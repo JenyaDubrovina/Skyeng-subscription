{
 "cells": [
  {
   "cell_type": "code",
   "execution_count": 1,
   "id": "5994e985",
   "metadata": {},
   "outputs": [],
   "source": [
    "import pandas as pd\n",
    "import numpy as np\n",
    "# виз\n",
    "from tqdm import tqdm  \n",
    "from time import sleep \n",
    "import matplotlib.pyplot as plt\n",
    "import seaborn as sns\n",
    "# стат\n",
    "from scipy.stats import norm\n",
    "from scipy import stats\n",
    "from scipy.stats import chi2_contingency\n",
    "import statsmodels.stats.power as smp\n",
    "\n",
    "# воспользуемся кодом из статьи https://habr.com/ru/company/yandex/blog/476826/ \n",
    "from bootstrapped import bootstrap as bs\n",
    "from bootstrapped import stats_functions as bs_st\n",
    "from scipy.stats import ttest_ind"
   ]
  },
  {
   "cell_type": "code",
   "execution_count": 47,
   "id": "a94dc3a7",
   "metadata": {},
   "outputs": [
    {
     "data": {
      "text/html": [
       "\n",
       "<script src=\"https://ajax.googleapis.com/ajax/libs/jquery/1.7.1/jquery.min.js\" type=\"text/javascript\"></script>\n",
       "<style>\n",
       "span{\n",
       "white-space:normal !important;\n",
       "}\n",
       "</style>\n",
       "<button style=\"align: center; margin:0 auto; display: block; background-color: #4CAF50;  color: white;  border: 2px solid #4CAF50; /* Green */\" onclick=\"jQuery('.code_cell .input_area').toggle();\n",
       "    jQuery('.prompt').toggle(); jQuery('.jp-InputArea-editor').toggle(); jQuery('.jp-OutputPrompt').toggle(); jQuery('.jp-InputPrompt').toggle();\"><text style = background-color: #4CAF50;>ЧТОБЫ СКРЫТЬ КОД, НАЖМИТЕ СЮДА</text></button>"
      ],
      "text/plain": [
       "<IPython.core.display.HTML object>"
      ]
     },
     "execution_count": 47,
     "metadata": {},
     "output_type": "execute_result"
    }
   ],
   "source": [
    "from IPython.display import HTML\n",
    "\n",
    "HTML('''\n",
    "<script src=\"https://ajax.googleapis.com/ajax/libs/jquery/1.7.1/jquery.min.js\" type=\"text/javascript\"></script>\n",
    "<style>\n",
    "span{\n",
    "white-space:normal !important;\n",
    "}\n",
    "</style>\n",
    "<button style=\"align: center; margin:0 auto; display: block; background-color: #4CAF50;  color: white;  border: 2px solid #4CAF50; /* Green */\" onclick=\"jQuery('.code_cell .input_area').toggle();\n",
    "    jQuery('.prompt').toggle(); jQuery('.jp-InputArea-editor').toggle(); jQuery('.jp-OutputPrompt').toggle(); jQuery('.jp-InputPrompt').toggle();\"><text style = background-color: #4CAF50;>ЧТОБЫ СКРЫТЬ КОД, НАЖМИТЕ СЮДА</text></button>''')"
   ]
  },
  {
   "cell_type": "markdown",
   "id": "1374e465",
   "metadata": {},
   "source": [
    "## Здоровье теста"
   ]
  },
  {
   "cell_type": "code",
   "execution_count": 46,
   "id": "f4e01301",
   "metadata": {},
   "outputs": [
    {
     "data": {
      "text/html": [
       "<div>\n",
       "<style scoped>\n",
       "    .dataframe tbody tr th:only-of-type {\n",
       "        vertical-align: middle;\n",
       "    }\n",
       "\n",
       "    .dataframe tbody tr th {\n",
       "        vertical-align: top;\n",
       "    }\n",
       "\n",
       "    .dataframe thead th {\n",
       "        text-align: right;\n",
       "    }\n",
       "</style>\n",
       "<table border=\"1\" class=\"dataframe\">\n",
       "  <thead>\n",
       "    <tr style=\"text-align: right;\">\n",
       "      <th></th>\n",
       "      <th>test_group</th>\n",
       "      <th>test_group_ab</th>\n",
       "      <th>order_id</th>\n",
       "      <th>application_datetime</th>\n",
       "      <th>geo_group</th>\n",
       "      <th>device_type</th>\n",
       "      <th>utm_group</th>\n",
       "      <th>product_line</th>\n",
       "      <th>orders_win</th>\n",
       "      <th>trans_bernoulli_win</th>\n",
       "      <th>amount_win</th>\n",
       "    </tr>\n",
       "  </thead>\n",
       "  <tbody>\n",
       "    <tr>\n",
       "      <th>0</th>\n",
       "      <td>A1-control</td>\n",
       "      <td>control</td>\n",
       "      <td>14401179</td>\n",
       "      <td>2022-02-21 10:37:50</td>\n",
       "      <td>Регионы РФ</td>\n",
       "      <td>NaN</td>\n",
       "      <td>Edu TM</td>\n",
       "      <td>Математика</td>\n",
       "      <td>NaN</td>\n",
       "      <td>0</td>\n",
       "      <td>NaN</td>\n",
       "    </tr>\n",
       "    <tr>\n",
       "      <th>1</th>\n",
       "      <td>B-test</td>\n",
       "      <td>test</td>\n",
       "      <td>14368273</td>\n",
       "      <td>2022-02-17 10:47:51</td>\n",
       "      <td>Регионы РФ</td>\n",
       "      <td>NaN</td>\n",
       "      <td>Edu TM</td>\n",
       "      <td>Математика</td>\n",
       "      <td>NaN</td>\n",
       "      <td>0</td>\n",
       "      <td>NaN</td>\n",
       "    </tr>\n",
       "    <tr>\n",
       "      <th>2</th>\n",
       "      <td>B-test</td>\n",
       "      <td>test</td>\n",
       "      <td>13744289</td>\n",
       "      <td>2021-12-03 14:54:04</td>\n",
       "      <td>Регионы РФ</td>\n",
       "      <td>mobile</td>\n",
       "      <td>Partnership</td>\n",
       "      <td>Английский язык для детей</td>\n",
       "      <td>13744289.0</td>\n",
       "      <td>0</td>\n",
       "      <td>NaN</td>\n",
       "    </tr>\n",
       "    <tr>\n",
       "      <th>3</th>\n",
       "      <td>B-test</td>\n",
       "      <td>test</td>\n",
       "      <td>13954776</td>\n",
       "      <td>2022-01-03 14:21:28</td>\n",
       "      <td>Регионы РФ</td>\n",
       "      <td>NaN</td>\n",
       "      <td>Mobile App</td>\n",
       "      <td>Математика</td>\n",
       "      <td>13954776.0</td>\n",
       "      <td>0</td>\n",
       "      <td>NaN</td>\n",
       "    </tr>\n",
       "    <tr>\n",
       "      <th>4</th>\n",
       "      <td>B-test</td>\n",
       "      <td>test</td>\n",
       "      <td>13895358</td>\n",
       "      <td>2021-12-22 13:38:46</td>\n",
       "      <td>Регионы РФ</td>\n",
       "      <td>NaN</td>\n",
       "      <td>Telemarketing</td>\n",
       "      <td>Английский язык для детей</td>\n",
       "      <td>13895358.0</td>\n",
       "      <td>0</td>\n",
       "      <td>NaN</td>\n",
       "    </tr>\n",
       "  </tbody>\n",
       "</table>\n",
       "</div>"
      ],
      "text/plain": [
       "   test_group test_group_ab  order_id application_datetime   geo_group  \\\n",
       "0  A1-control       control  14401179  2022-02-21 10:37:50  Регионы РФ   \n",
       "1      B-test          test  14368273  2022-02-17 10:47:51  Регионы РФ   \n",
       "2      B-test          test  13744289  2021-12-03 14:54:04  Регионы РФ   \n",
       "3      B-test          test  13954776  2022-01-03 14:21:28  Регионы РФ   \n",
       "4      B-test          test  13895358  2021-12-22 13:38:46  Регионы РФ   \n",
       "\n",
       "  device_type      utm_group               product_line  orders_win  \\\n",
       "0         NaN         Edu TM                 Математика         NaN   \n",
       "1         NaN         Edu TM                 Математика         NaN   \n",
       "2      mobile    Partnership  Английский язык для детей  13744289.0   \n",
       "3         NaN     Mobile App                 Математика  13954776.0   \n",
       "4         NaN  Telemarketing  Английский язык для детей  13895358.0   \n",
       "\n",
       "   trans_bernoulli_win  amount_win  \n",
       "0                    0         NaN  \n",
       "1                    0         NaN  \n",
       "2                    0         NaN  \n",
       "3                    0         NaN  \n",
       "4                    0         NaN  "
      ]
     },
     "execution_count": 46,
     "metadata": {},
     "output_type": "execute_result"
    }
   ],
   "source": [
    "#https://redash.skyeng.ru/queries/32352/source\n",
    "\n",
    "df = pd.read_csv('data_1.csv') \n",
    "df.head()"
   ]
  },
  {
   "cell_type": "code",
   "execution_count": 3,
   "id": "16ce11c5",
   "metadata": {},
   "outputs": [
    {
     "name": "stdout",
     "output_type": "stream",
     "text": [
      "Выборки независимы. Пересечения вариаций исключены из анализа.\n"
     ]
    }
   ],
   "source": [
    "print(\"Выборки независимы. Пересечения вариаций исключены из анализа.\")"
   ]
  },
  {
   "cell_type": "code",
   "execution_count": 4,
   "id": "a5ad2f7f",
   "metadata": {},
   "outputs": [],
   "source": [
    "# деление по вариациям\n",
    "df_a0 = df[df.test_group == 'A0-control']\n",
    "df_a1 = df[df.test_group == 'A1-control']\n",
    "df_b = df[df.test_group == 'B-test']"
   ]
  },
  {
   "cell_type": "code",
   "execution_count": 5,
   "id": "d59e3430",
   "metadata": {},
   "outputs": [],
   "source": [
    "# для расчёта С1\n",
    "с1_a0 = df[df.test_group == 'A0-control'].trans_bernoulli_win\n",
    "с1_a1 = df[df.test_group == 'A1-control'].trans_bernoulli_win\n",
    "с1_b = df[df.test_group == 'B-test'].trans_bernoulli_win"
   ]
  },
  {
   "cell_type": "markdown",
   "id": "7c9ab3ef",
   "metadata": {},
   "source": [
    "### Распределение разницы средних по А/А тесту"
   ]
  },
  {
   "cell_type": "code",
   "execution_count": 6,
   "id": "824e1f7b",
   "metadata": {},
   "outputs": [],
   "source": [
    "def get_bootstrap(\n",
    "    data_column_1, # числовые значения первой выборки\n",
    "    data_column_2, # числовые значения второй выборки\n",
    "    boot_it = 1000, # количество бутстрэп-подвыборок\n",
    "    statistic = np.mean, # интересующая нас статистика\n",
    "    bootstrap_conf_level = 0.95 # уровень значимости\n",
    "):\n",
    "\n",
    "    boot_data = []\n",
    "    for i in tqdm(range(boot_it)): # извлекаем подвыборки\n",
    "        samples_1 = data_column_1.sample(\n",
    "            len(data_column_1), \n",
    "            replace = True # параметр возвращения\n",
    "        ).values\n",
    "        \n",
    "        samples_2 = data_column_2.sample(\n",
    "            len(data_column_2), \n",
    "            replace = True\n",
    "        ).values\n",
    "        \n",
    "        boot_data.append(statistic(samples_1)-statistic(samples_2)) # mean() - применяем статистику\n",
    "        \n",
    "    pd_boot_data = pd.DataFrame(boot_data)\n",
    "        \n",
    "    left_quant = (1 - bootstrap_conf_level)/2\n",
    "    right_quant = 1 - (1 - bootstrap_conf_level) / 2\n",
    "    ci = pd_boot_data.quantile([left_quant, right_quant])\n",
    "        \n",
    "    p_1 = norm.cdf(\n",
    "        x = 0, \n",
    "        loc = np.mean(boot_data), \n",
    "        scale = np.std(boot_data)\n",
    "    )\n",
    "    p_2 = norm.cdf(\n",
    "        x = 0, \n",
    "        loc = -np.mean(boot_data), \n",
    "        scale = np.std(boot_data)\n",
    "    )\n",
    "    p_value = min(p_1, p_2) * 2\n",
    "        \n",
    "    # Визуализация\n",
    "    plt.hist(pd_boot_data[0], bins = 50)\n",
    "    \n",
    "    plt.style.use('ggplot')\n",
    "    plt.vlines(ci,ymin=0,ymax=50,linestyle='--')\n",
    "    plt.xlabel('boot_data')\n",
    "    plt.ylabel('frequency')\n",
    "    plt.title(\"Histogram of boot_data\")\n",
    "    plt.show()\n",
    "       \n",
    "    return {#\"boot_data\": boot_data, \n",
    "            \"ci\": ci, \n",
    "            \"p_value\": p_value}"
   ]
  },
  {
   "cell_type": "code",
   "execution_count": 7,
   "id": "74f998dd",
   "metadata": {},
   "outputs": [
    {
     "name": "stderr",
     "output_type": "stream",
     "text": [
      "100%|█████████████████████████████████████████████████████████████████████████████| 1000/1000 [00:01<00:00, 572.96it/s]\n"
     ]
    },
    {
     "data": {
      "image/png": "[encoded data removed]",
      "text/plain": [
       "<Figure size 432x288 with 1 Axes>"
      ]
     },
     "metadata": {
      "needs_background": "light"
     },
     "output_type": "display_data"
    },
    {
     "data": {
      "text/plain": [
       "{'ci':               0\n",
       " 0.025 -0.003245\n",
       " 0.975  0.003742,\n",
       " 'p_value': 0.9148167495916354}"
      ]
     },
     "execution_count": 7,
     "metadata": {},
     "output_type": "execute_result"
    }
   ],
   "source": [
    "get_bootstrap(с1_a0, с1_a1, boot_it = 1000, statistic = np.mean, bootstrap_conf_level = 0.95)"
   ]
  },
  {
   "cell_type": "code",
   "execution_count": 8,
   "id": "01569464",
   "metadata": {},
   "outputs": [
    {
     "name": "stdout",
     "output_type": "stream",
     "text": [
      "Стат.значимой разницы по А/А тесту нет\n"
     ]
    }
   ],
   "source": [
    "print(\"Стат.значимой разницы по А/А тесту нет\")"
   ]
  },
  {
   "cell_type": "markdown",
   "id": "7569ccc4",
   "metadata": {},
   "source": [
    "### Распределение pValue, t статистики и fpr по А/А тесту"
   ]
  },
  {
   "cell_type": "code",
   "execution_count": 9,
   "id": "75714083",
   "metadata": {},
   "outputs": [
    {
     "name": "stderr",
     "output_type": "stream",
     "text": [
      "100%|█████████████████████████████████████████████████████████████████████████████| 1000/1000 [00:01<00:00, 566.84it/s]\n"
     ]
    },
    {
     "data": {
      "image/png": "[encoded data removed]",
      "text/plain": [
       "<Figure size 432x288 with 1 Axes>"
      ]
     },
     "metadata": {},
     "output_type": "display_data"
    }
   ],
   "source": [
    "# Распределение t статистики\n",
    "n = 100000\n",
    "simulations = 1000\n",
    "n_s = 1000\n",
    "res = []\n",
    "\n",
    "for i in tqdm(range(simulations)):\n",
    "    s1 = с1_a0.sample(n_s, replace = False).values\n",
    "    s2 = с1_a1.sample(n_s, replace = False).values\n",
    "    res.append(stats.ttest_ind(s1, s2, equal_var = False)[0]) # сохраняем t-статистику\n",
    "\n",
    "plt.hist(res, bins = 50)\n",
    "plt.style.use('ggplot')\n",
    "plt.xlabel('t-statistic')\n",
    "plt.ylabel('frequency')\n",
    "plt.title(\"Histogram of ttest A/A simulations \")\n",
    "plt.show()"
   ]
  },
  {
   "cell_type": "code",
   "execution_count": 10,
   "id": "c0c6d6ce",
   "metadata": {},
   "outputs": [
    {
     "name": "stdout",
     "output_type": "stream",
     "text": [
      "Распределение t-статистики симметрично\n"
     ]
    }
   ],
   "source": [
    "print(\"Распределение t-статистики симметрично\")"
   ]
  },
  {
   "cell_type": "code",
   "execution_count": 11,
   "id": "ad8fe622",
   "metadata": {},
   "outputs": [
    {
     "name": "stderr",
     "output_type": "stream",
     "text": [
      "100%|█████████████████████████████████████████████████████████████████████████████| 1000/1000 [00:01<00:00, 571.32it/s]\n"
     ]
    },
    {
     "data": {
      "image/png": "[encoded data removed]",
      "text/plain": [
       "<Figure size 432x288 with 1 Axes>"
      ]
     },
     "metadata": {},
     "output_type": "display_data"
    }
   ],
   "source": [
    "# Распределение pvalue\n",
    "n = 100000\n",
    "simulations = 1000\n",
    "n_s = 1000\n",
    "res = []\n",
    "\n",
    "for i in tqdm(range(simulations)):\n",
    "    s1 = с1_a0.sample(n_s, replace = False).values\n",
    "    s2 = с1_a1.sample(n_s, replace = False).values\n",
    "    res.append(stats.ttest_ind(s1, s2, equal_var = False)[1]) # сохраняем t-статистику\n",
    "\n",
    "plt.hist(res, bins = 50)\n",
    "plt.style.use('ggplot')\n",
    "plt.xlabel('pvalues')\n",
    "plt.ylabel('frequency')\n",
    "plt.title(\"Histogram of ttest A/A simulations \")\n",
    "plt.show()"
   ]
  },
  {
   "cell_type": "code",
   "execution_count": 12,
   "id": "ccfabf34",
   "metadata": {},
   "outputs": [
    {
     "name": "stdout",
     "output_type": "stream",
     "text": [
      "Распределение p-value равномерно\n"
     ]
    }
   ],
   "source": [
    "print(\"Распределение p-value равномерно\")"
   ]
  },
  {
   "cell_type": "code",
   "execution_count": 13,
   "id": "22c9e62e",
   "metadata": {},
   "outputs": [
    {
     "name": "stdout",
     "output_type": "stream",
     "text": [
      "FPR =  0.055\n"
     ]
    }
   ],
   "source": [
    "# FPR - Проверяем, что количество ложноположительных случаев не превышает альфа\n",
    "print(\"FPR = \",sum(np.array(res) <0.05) / simulations)"
   ]
  },
  {
   "cell_type": "markdown",
   "id": "d4ad2c6c",
   "metadata": {},
   "source": [
    "### Равномерность разбиения трафика по оригиналу и вариации"
   ]
  },
  {
   "cell_type": "code",
   "execution_count": 14,
   "id": "e16e4865",
   "metadata": {},
   "outputs": [],
   "source": [
    "df_control = df[df.test_group_ab == 'control']\n",
    "df_test = df[df.test_group_ab == 'test']"
   ]
  },
  {
   "cell_type": "code",
   "execution_count": 15,
   "id": "cdf075cd",
   "metadata": {},
   "outputs": [],
   "source": [
    "def get_chi(df_control, df_test, column, part=None):\n",
    "    Control = df_control[column].value_counts()\n",
    "    Test = df_test[column].value_counts()\n",
    "    merged = pd.merge(Control, Test, left_index=True, right_index=True)\n",
    "    merged.columns = ['Control', 'Test']\n",
    "    # ограничение на использование критерия:\n",
    "    # https://docs.scipy.org/doc/scipy/reference/generated/scipy.stats.chi2_contingency.html\n",
    "    merged_5 = merged[(merged.Control > 5) & (merged.Test > 5)]\n",
    "    if part:\n",
    "        print(merged_5.iloc[:part])\n",
    "        stat, p, dof, expected = chi2_contingency(merged_5.iloc[:part])\n",
    "    else:\n",
    "        stat, p, dof, expected = chi2_contingency(merged_5)\n",
    "    return p"
   ]
  },
  {
   "cell_type": "code",
   "execution_count": 16,
   "id": "3d040908",
   "metadata": {},
   "outputs": [
    {
     "name": "stdout",
     "output_type": "stream",
     "text": [
      "Если p-value > 0.05, то нет стат.значимого различия по делению заявок\n"
     ]
    }
   ],
   "source": [
    "print(\"Если p-value > 0.05, то нет стат.значимого различия по делению заявок\")"
   ]
  },
  {
   "cell_type": "code",
   "execution_count": 17,
   "id": "a8825287",
   "metadata": {},
   "outputs": [
    {
     "name": "stdout",
     "output_type": "stream",
     "text": [
      "p-value (product_line) =  0.5963759501552552\n"
     ]
    }
   ],
   "source": [
    "print(\"p-value (product_line) = \",get_chi(df_control, df_test, 'product_line'))"
   ]
  },
  {
   "cell_type": "code",
   "execution_count": 18,
   "id": "973741cc",
   "metadata": {},
   "outputs": [
    {
     "name": "stdout",
     "output_type": "stream",
     "text": [
      "p-value (geo_group) =  0.10336050151744541\n"
     ]
    }
   ],
   "source": [
    "print(\"p-value (geo_group) = \",get_chi(df_control, df_test, 'geo_group'))"
   ]
  },
  {
   "cell_type": "code",
   "execution_count": 19,
   "id": "422ccbf5",
   "metadata": {},
   "outputs": [
    {
     "name": "stdout",
     "output_type": "stream",
     "text": [
      "p-value (device_type) =  0.43986855659567325\n"
     ]
    }
   ],
   "source": [
    "print(\"p-value (device_type) = \",get_chi(df_control, df_test, 'device_type'))"
   ]
  },
  {
   "cell_type": "code",
   "execution_count": 20,
   "id": "740bd2fd",
   "metadata": {},
   "outputs": [
    {
     "name": "stdout",
     "output_type": "stream",
     "text": [
      "p-value (utm_group) =  0.2549828789005574\n"
     ]
    }
   ],
   "source": [
    "print(\"p-value (utm_group) = \",get_chi(df_control, df_test, 'utm_group'))"
   ]
  },
  {
   "cell_type": "markdown",
   "id": "d8c07d0e",
   "metadata": {},
   "source": [
    "## Воронка С1 с окном 21 день"
   ]
  },
  {
   "cell_type": "markdown",
   "id": "46b7cb10",
   "metadata": {},
   "source": [
    "Основные метрики для рассмотрения: С1, средний чек, ARPU"
   ]
  },
  {
   "cell_type": "code",
   "execution_count": 21,
   "id": "7da2a251",
   "metadata": {},
   "outputs": [],
   "source": [
    "df_win = df[~df.orders_win.isna()] # таблица только по заявкам с закрытым окном в 21 день\n",
    "\n",
    "df_win_control = df_win[df_win.test_group_ab == 'control']\n",
    "df_win_test = df_win[df_win.test_group_ab == 'test']"
   ]
  },
  {
   "cell_type": "markdown",
   "id": "496050af",
   "metadata": {},
   "source": [
    "### Оценка С1 с применением bootstrap"
   ]
  },
  {
   "cell_type": "code",
   "execution_count": 28,
   "id": "1028fe7a",
   "metadata": {},
   "outputs": [],
   "source": [
    "def get_bootstrap(\n",
    "    data_column_1, # числовые значения первой выборки\n",
    "    data_column_2, # числовые значения второй выборки\n",
    "    boot_it = 10000, # количество бутстрэп-подвыборок\n",
    "    statistic = np.mean, # интересующая нас статистика\n",
    "    bootstrap_conf_level = 0.95 # уровень значимости\n",
    "):\n",
    "    boot_data = []\n",
    "    nobs=min(len(data_column_1),len(data_column_2)) # чтобы сохранить дисперсию, берем такой же размер выборки\n",
    "    \n",
    "    for i in tqdm(range(boot_it)): # извлекаем подвыборки\n",
    "        samples_1 = data_column_1.sample(\n",
    "            nobs,\n",
    "            replace = True # параметр возвращения\n",
    "        ).values\n",
    "        \n",
    "        samples_2 = data_column_2.sample(\n",
    "            nobs, \n",
    "            replace = True\n",
    "        ).values\n",
    "        \n",
    "        boot_data.append(statistic(samples_1-samples_2)) # mean() - применяем статистику\n",
    "        \n",
    "    pd_boot_data = pd.DataFrame(boot_data)\n",
    "        \n",
    "    left_quant = (1 - bootstrap_conf_level)/2\n",
    "    right_quant = 1 - (1 - bootstrap_conf_level) / 2\n",
    "    quants = pd_boot_data.quantile([left_quant, right_quant])\n",
    "        \n",
    "    p_1 = norm.cdf(\n",
    "        x = 0, \n",
    "        loc = np.mean(boot_data), \n",
    "        scale = np.std(boot_data)\n",
    "    )\n",
    "    p_2 = norm.cdf(\n",
    "        x = 0, \n",
    "        loc = -np.mean(boot_data), \n",
    "        scale = np.std(boot_data)\n",
    "    )\n",
    "    p_value = min(p_1, p_2) * 2\n",
    "\n",
    "    power = 1 - (min(len([x for x in boot_data if x >= 0]),\n",
    "        len([x for x in boot_data if x <= 0])) / len(boot_data))\n",
    "        \n",
    "    # Визуализация\n",
    "    _, _, bars = plt.hist(pd_boot_data[0], bins = 50)\n",
    "    for bar in bars:\n",
    "        if abs(bar.get_x()) <= quants.iloc[0][0] or abs(bar.get_x()) >= quants.iloc[1][0]:\n",
    "            bar.set_facecolor('red')\n",
    "        else: \n",
    "            bar.set_facecolor('grey')\n",
    "            bar.set_edgecolor('black')\n",
    "\n",
    "    plt.style.use('ggplot')\n",
    "    plt.vlines(quants,ymin=0, ymax=50, linestyle='--')\n",
    "    plt.xlabel('boot_data')\n",
    "    plt.ylabel('frequency')\n",
    "    plt.title(\"Histogram of boot_data\")\n",
    "    plt.show()\n",
    "       \n",
    "    return {\"boot_data\": boot_data, \n",
    "            \"quants\": quants, \n",
    "            \"p_value\": p_value,\n",
    "            \"power\": power}"
   ]
  },
  {
   "cell_type": "code",
   "execution_count": 29,
   "id": "3a4301b5",
   "metadata": {},
   "outputs": [
    {
     "name": "stderr",
     "output_type": "stream",
     "text": [
      "100%|███████████████████████████████████████████████████████████████████████████| 10000/10000 [00:15<00:00, 633.27it/s]\n"
     ]
    },
    {
     "data": {
      "image/png": "[encoded data removed]",
      "text/plain": [
       "<Figure size 432x288 with 1 Axes>"
      ]
     },
     "metadata": {},
     "output_type": "display_data"
    },
    {
     "name": "stdout",
     "output_type": "stream",
     "text": [
      "Квантили:               0\n",
      "0.025  0.002791\n",
      "0.975  0.009050\n",
      "power: 0.9999\n",
      "p_value: 0.0002182495935437178\n"
     ]
    }
   ],
   "source": [
    "check = get_bootstrap(df_win_test.trans_bernoulli_win, \n",
    "                      df_win_control.trans_bernoulli_win) # в результате хранится разница двух распределений, ДИ и pvalue\n",
    "\n",
    "print('Квантили:', check['quants'])\n",
    "print('power:', check['power'])\n",
    "print('p_value:', check['p_value'])"
   ]
  },
  {
   "cell_type": "markdown",
   "id": "fd2d7790",
   "metadata": {},
   "source": [
    "### Накопительный p-value для С1"
   ]
  },
  {
   "cell_type": "code",
   "execution_count": 30,
   "id": "af01f56d",
   "metadata": {},
   "outputs": [],
   "source": [
    "data_ab = df_win  # работаем с заявками с закрытым окном\n",
    "index = []\n",
    "results = []\n",
    "for i in range(1000,len(data_ab),500):\n",
    "    presentDataVar = data_ab.loc[:i,]['test_group_ab'] \n",
    "    presentDataValue = data_ab.loc[:i,]['trans_bernoulli_win'] \n",
    "    contingency = pd.crosstab(presentDataVar, presentDataValue)\n",
    "    stat, p_value, dof, ex = chi2_contingency(contingency)  \n",
    "    index.append(i)\n",
    "    results.append(p_value)\n",
    "p_value_open_task_ab = results[-1]\n"
   ]
  },
  {
   "cell_type": "code",
   "execution_count": 31,
   "id": "47bb8e15",
   "metadata": {},
   "outputs": [
    {
     "data": {
      "image/png": "[encoded data removed]",
      "text/plain": [
       "<Figure size 432x288 with 1 Axes>"
      ]
     },
     "metadata": {},
     "output_type": "display_data"
    }
   ],
   "source": [
    "plt.plot(index, results)\n",
    "plt.plot(np.ones(len(data_ab))*0.05)\n",
    "plt.xlabel('data')\n",
    "plt.ylabel('p-value')\n",
    "plt.title(\"Cumulative p-value\")\n",
    "plt.show()"
   ]
  },
  {
   "cell_type": "markdown",
   "id": "f4b68b2b",
   "metadata": {},
   "source": [
    "### Оценка среднего чека с применением bootstrap"
   ]
  },
  {
   "cell_type": "code",
   "execution_count": 32,
   "id": "36850e4a",
   "metadata": {},
   "outputs": [],
   "source": [
    "df_check = df[~df.amount_win.isna()] # таблица только по прошедшим оплатам с закрытым окном в 21 день\n",
    "\n",
    "df_check_control = df_check[df_check.test_group_ab == 'control']\n",
    "df_check_test = df_check[df_check.test_group_ab == 'test']"
   ]
  },
  {
   "cell_type": "code",
   "execution_count": 33,
   "id": "59009422",
   "metadata": {},
   "outputs": [
    {
     "name": "stderr",
     "output_type": "stream",
     "text": [
      "100%|██████████████████████████████████████████████████████████████████████████| 10000/10000 [00:03<00:00, 2606.75it/s]\n"
     ]
    },
    {
     "data": {
      "image/png": "[encoded data removed]",
      "text/plain": [
       "<Figure size 432x288 with 1 Axes>"
      ]
     },
     "metadata": {},
     "output_type": "display_data"
    },
    {
     "name": "stdout",
     "output_type": "stream",
     "text": [
      "Квантили:                  0\n",
      "0.025 -3643.447006\n",
      "0.975 -2979.928668\n",
      "power: 1.0\n",
      "p_value: 2.696258788654777e-85\n"
     ]
    }
   ],
   "source": [
    "check = get_bootstrap(df_check_test.amount_win, \n",
    "                      df_check_control.amount_win) # в результате хранится разница двух распределений, ДИ и pvalue\n",
    "\n",
    "print('Квантили:', check['quants'])\n",
    "print('power:', check['power'])\n",
    "print('p_value:', check['p_value'])"
   ]
  },
  {
   "cell_type": "code",
   "execution_count": 34,
   "id": "c533b4a1",
   "metadata": {},
   "outputs": [],
   "source": [
    "bs_1 = bs.bootstrap(df_check_control.amount_win.values, # переводим в одномерный массив\n",
    "             stat_func=bs_st.mean, \n",
    "             num_iterations=10000, iteration_batch_size=300, \n",
    "             return_distribution=True)\n",
    "\n",
    "bs_2 = bs.bootstrap(df_check_test.amount_win.values,    # переводим в одномерный массив\n",
    "             stat_func=bs_st.mean, \n",
    "             num_iterations=10000, iteration_batch_size=300, \n",
    "             return_distribution=True)"
   ]
  },
  {
   "cell_type": "code",
   "execution_count": 35,
   "id": "b60c44fa",
   "metadata": {},
   "outputs": [
    {
     "data": {
      "text/plain": [
       "<matplotlib.legend.Legend at 0x21168be0970>"
      ]
     },
     "execution_count": 35,
     "metadata": {},
     "output_type": "execute_result"
    },
    {
     "data": {
      "image/png": "[encoded data removed]",
      "text/plain": [
       "<Figure size 432x288 with 1 Axes>"
      ]
     },
     "metadata": {},
     "output_type": "display_data"
    }
   ],
   "source": [
    "sns.histplot(bs_1)\n",
    "plt.axvline(bs_1.mean(), color='darkblue', label='Original')\n",
    "plt.axvline(np.percentile(bs_1, 2.5), color='blue', alpha=.8, linestyle='--')\n",
    "plt.axvline(np.percentile(bs_1, 97.5), color='blue', alpha=.8, linestyle='--')\n",
    "sns.histplot(bs_2)\n",
    "plt.axvline(bs_2.mean(), color='red', label='Variant')\n",
    "plt.axvline(np.percentile(bs_2, 2.5), color='orange', alpha=.8, linestyle='--')\n",
    "plt.axvline(np.percentile(bs_2, 97.5), color='orange', alpha=.8, linestyle='--')\n",
    "plt.legend()"
   ]
  },
  {
   "cell_type": "markdown",
   "id": "e76fae15",
   "metadata": {},
   "source": [
    "### Оценка ARPU с применением bootstrap"
   ]
  },
  {
   "cell_type": "code",
   "execution_count": 38,
   "id": "5588747e",
   "metadata": {},
   "outputs": [],
   "source": [
    "df_arpu = df_win.copy() # таблица только с закрытым окном в 21 день\n",
    "df_arpu.loc[:,['amount_win']]=df_arpu.amount_win.fillna(0)\n",
    "\n",
    "df_arpu_control = df_arpu[df_arpu.test_group_ab == 'control']\n",
    "df_arpu_test = df_arpu[df_arpu.test_group_ab == 'test']"
   ]
  },
  {
   "cell_type": "code",
   "execution_count": 39,
   "id": "aa44107a",
   "metadata": {},
   "outputs": [
    {
     "name": "stderr",
     "output_type": "stream",
     "text": [
      "100%|███████████████████████████████████████████████████████████████████████████| 10000/10000 [00:17<00:00, 579.89it/s]\n"
     ]
    },
    {
     "data": {
      "image/png": "[encoded data removed]",
      "text/plain": [
       "<Figure size 432x288 with 1 Axes>"
      ]
     },
     "metadata": {},
     "output_type": "display_data"
    },
    {
     "name": "stdout",
     "output_type": "stream",
     "text": [
      "Квантили:                 0\n",
      "0.025 -256.081342\n",
      "0.975 -170.675665\n",
      "power: 1.0\n",
      "p_value: 1.6609383997004745e-22\n"
     ]
    }
   ],
   "source": [
    "check = get_bootstrap(df_arpu_test.amount_win, \n",
    "                      df_arpu_control.amount_win) # в результате хранится разница двух распределений, ДИ и pvalue\n",
    "\n",
    "print('Квантили:', check['quants'])\n",
    "print('power:', check['power'])\n",
    "print('p_value:', check['p_value'])"
   ]
  },
  {
   "cell_type": "code",
   "execution_count": 40,
   "id": "1c631774",
   "metadata": {},
   "outputs": [],
   "source": [
    "bs_1 = bs.bootstrap(df_arpu_control.amount_win.values, # переводим в одномерный массив\n",
    "             stat_func=bs_st.mean, \n",
    "             num_iterations=10000, iteration_batch_size=300, \n",
    "             return_distribution=True)\n",
    "\n",
    "bs_2 = bs.bootstrap(df_arpu_test.amount_win.values,    # переводим в одномерный массив\n",
    "             stat_func=bs_st.mean, \n",
    "             num_iterations=10000, iteration_batch_size=300, \n",
    "             return_distribution=True)"
   ]
  },
  {
   "cell_type": "code",
   "execution_count": 41,
   "id": "16248b65",
   "metadata": {},
   "outputs": [
    {
     "data": {
      "text/plain": [
       "<matplotlib.legend.Legend at 0x21163031a00>"
      ]
     },
     "execution_count": 41,
     "metadata": {},
     "output_type": "execute_result"
    },
    {
     "data": {
      "image/png": "[encoded data removed]",
      "text/plain": [
       "<Figure size 432x288 with 1 Axes>"
      ]
     },
     "metadata": {},
     "output_type": "display_data"
    }
   ],
   "source": [
    "sns.histplot(bs_1)\n",
    "plt.axvline(bs_1.mean(), color='darkblue', label='Original')\n",
    "plt.axvline(np.percentile(bs_1, 2.5), color='blue', alpha=.8, linestyle='--')\n",
    "plt.axvline(np.percentile(bs_1, 97.5), color='blue', alpha=.8, linestyle='--')\n",
    "sns.histplot(bs_2)\n",
    "plt.axvline(bs_2.mean(), color='red', label='Variant')\n",
    "plt.axvline(np.percentile(bs_2, 2.5), color='orange', alpha=.8, linestyle='--')\n",
    "plt.axvline(np.percentile(bs_2, 97.5), color='orange', alpha=.8, linestyle='--')\n",
    "plt.legend()"
   ]
  }
 ],
 "metadata": {
  "kernelspec": {
   "display_name": "Python 3",
   "language": "python",
   "name": "python3"
  },
  "language_info": {
   "codemirror_mode": {
    "name": "ipython",
    "version": 3
   },
   "file_extension": ".py",
   "mimetype": "text/x-python",
   "name": "python",
   "nbconvert_exporter": "python",
   "pygments_lexer": "ipython3",
   "version": "3.8.8"
  }
 },
 "nbformat": 4,
 "nbformat_minor": 5
}
